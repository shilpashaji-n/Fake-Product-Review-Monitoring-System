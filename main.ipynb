{
 "cells": [
  {
   "cell_type": "code",
   "execution_count": 29,
   "metadata": {},
   "outputs": [
    {
     "name": "stdout",
     "output_type": "stream",
     "text": [
      "Requirement already satisfied: pandas in c:\\users\\shilp\\anaconda3\\lib\\site-packages (1.3.4)\n",
      "Requirement already satisfied: python-dateutil>=2.7.3 in c:\\users\\shilp\\anaconda3\\lib\\site-packages (from pandas) (2.8.2)\n",
      "Requirement already satisfied: numpy>=1.17.3 in c:\\users\\shilp\\anaconda3\\lib\\site-packages (from pandas) (1.22.4)\n",
      "Requirement already satisfied: pytz>=2017.3 in c:\\users\\shilp\\anaconda3\\lib\\site-packages (from pandas) (2021.3)\n",
      "Requirement already satisfied: six>=1.5 in c:\\users\\shilp\\anaconda3\\lib\\site-packages (from python-dateutil>=2.7.3->pandas) (1.16.0)\n",
      "Requirement already satisfied: numpy in c:\\users\\shilp\\anaconda3\\lib\\site-packages (1.22.4)\n",
      "Requirement already satisfied: nltk in c:\\users\\shilp\\anaconda3\\lib\\site-packages (3.6.5)\n",
      "Requirement already satisfied: click in c:\\users\\shilp\\anaconda3\\lib\\site-packages (from nltk) (8.0.3)\n",
      "Requirement already satisfied: joblib in c:\\users\\shilp\\anaconda3\\lib\\site-packages (from nltk) (1.1.0)\n",
      "Requirement already satisfied: regex>=2021.8.3 in c:\\users\\shilp\\anaconda3\\lib\\site-packages (from nltk) (2021.8.3)\n",
      "Requirement already satisfied: tqdm in c:\\users\\shilp\\anaconda3\\lib\\site-packages (from nltk) (4.62.3)\n",
      "Requirement already satisfied: colorama in c:\\users\\shilp\\anaconda3\\lib\\site-packages (from click->nltk) (0.4.4)\n",
      "Requirement already satisfied: tensorflow in c:\\users\\shilp\\anaconda3\\lib\\site-packages (2.12.0)\n",
      "Requirement already satisfied: tensorflow-intel==2.12.0 in c:\\users\\shilp\\anaconda3\\lib\\site-packages (from tensorflow) (2.12.0)\n",
      "Requirement already satisfied: libclang>=13.0.0 in c:\\users\\shilp\\anaconda3\\lib\\site-packages (from tensorflow-intel==2.12.0->tensorflow) (16.0.0)\n",
      "Requirement already satisfied: google-pasta>=0.1.1 in c:\\users\\shilp\\anaconda3\\lib\\site-packages (from tensorflow-intel==2.12.0->tensorflow) (0.2.0)\n",
      "Requirement already satisfied: termcolor>=1.1.0 in c:\\users\\shilp\\anaconda3\\lib\\site-packages (from tensorflow-intel==2.12.0->tensorflow) (2.2.0)\n",
      "Requirement already satisfied: h5py>=2.9.0 in c:\\users\\shilp\\anaconda3\\lib\\site-packages (from tensorflow-intel==2.12.0->tensorflow) (3.2.1)\n",
      "Requirement already satisfied: tensorflow-estimator<2.13,>=2.12.0 in c:\\users\\shilp\\anaconda3\\lib\\site-packages (from tensorflow-intel==2.12.0->tensorflow) (2.12.0)\n",
      "Requirement already satisfied: jax>=0.3.15 in c:\\users\\shilp\\anaconda3\\lib\\site-packages (from tensorflow-intel==2.12.0->tensorflow) (0.4.8)\n",
      "Requirement already satisfied: keras<2.13,>=2.12.0 in c:\\users\\shilp\\anaconda3\\lib\\site-packages (from tensorflow-intel==2.12.0->tensorflow) (2.12.0)\n",
      "Requirement already satisfied: six>=1.12.0 in c:\\users\\shilp\\anaconda3\\lib\\site-packages (from tensorflow-intel==2.12.0->tensorflow) (1.16.0)\n",
      "Requirement already satisfied: numpy<1.24,>=1.22 in c:\\users\\shilp\\anaconda3\\lib\\site-packages (from tensorflow-intel==2.12.0->tensorflow) (1.22.4)\n",
      "Requirement already satisfied: typing-extensions>=3.6.6 in c:\\users\\shilp\\anaconda3\\lib\\site-packages (from tensorflow-intel==2.12.0->tensorflow) (3.10.0.2)\n",
      "Requirement already satisfied: flatbuffers>=2.0 in c:\\users\\shilp\\anaconda3\\lib\\site-packages (from tensorflow-intel==2.12.0->tensorflow) (23.3.3)\n",
      "Requirement already satisfied: tensorflow-io-gcs-filesystem>=0.23.1 in c:\\users\\shilp\\anaconda3\\lib\\site-packages (from tensorflow-intel==2.12.0->tensorflow) (0.31.0)\n",
      "Requirement already satisfied: tensorboard<2.13,>=2.12 in c:\\users\\shilp\\anaconda3\\lib\\site-packages (from tensorflow-intel==2.12.0->tensorflow) (2.12.1)\n",
      "Requirement already satisfied: grpcio<2.0,>=1.24.3 in c:\\users\\shilp\\anaconda3\\lib\\site-packages (from tensorflow-intel==2.12.0->tensorflow) (1.53.0)\n",
      "Requirement already satisfied: packaging in c:\\users\\shilp\\anaconda3\\lib\\site-packages (from tensorflow-intel==2.12.0->tensorflow) (21.0)\n",
      "Requirement already satisfied: setuptools in c:\\users\\shilp\\anaconda3\\lib\\site-packages (from tensorflow-intel==2.12.0->tensorflow) (58.0.4)\n",
      "Requirement already satisfied: absl-py>=1.0.0 in c:\\users\\shilp\\anaconda3\\lib\\site-packages (from tensorflow-intel==2.12.0->tensorflow) (1.4.0)\n",
      "Requirement already satisfied: astunparse>=1.6.0 in c:\\users\\shilp\\anaconda3\\lib\\site-packages (from tensorflow-intel==2.12.0->tensorflow) (1.6.3)\n",
      "Requirement already satisfied: gast<=0.4.0,>=0.2.1 in c:\\users\\shilp\\anaconda3\\lib\\site-packages (from tensorflow-intel==2.12.0->tensorflow) (0.4.0)\n",
      "Requirement already satisfied: opt-einsum>=2.3.2 in c:\\users\\shilp\\anaconda3\\lib\\site-packages (from tensorflow-intel==2.12.0->tensorflow) (3.3.0)\n",
      "Requirement already satisfied: protobuf!=4.21.0,!=4.21.1,!=4.21.2,!=4.21.3,!=4.21.4,!=4.21.5,<5.0.0dev,>=3.20.3 in c:\\users\\shilp\\anaconda3\\lib\\site-packages (from tensorflow-intel==2.12.0->tensorflow) (4.22.1)\n",
      "Requirement already satisfied: wrapt<1.15,>=1.11.0 in c:\\users\\shilp\\anaconda3\\lib\\site-packages (from tensorflow-intel==2.12.0->tensorflow) (1.12.1)\n",
      "Requirement already satisfied: wheel<1.0,>=0.23.0 in c:\\users\\shilp\\anaconda3\\lib\\site-packages (from astunparse>=1.6.0->tensorflow-intel==2.12.0->tensorflow) (0.37.0)\n",
      "Requirement already satisfied: scipy>=1.7 in c:\\users\\shilp\\anaconda3\\lib\\site-packages (from jax>=0.3.15->tensorflow-intel==2.12.0->tensorflow) (1.7.1)\n",
      "Requirement already satisfied: ml-dtypes>=0.0.3 in c:\\users\\shilp\\anaconda3\\lib\\site-packages (from jax>=0.3.15->tensorflow-intel==2.12.0->tensorflow) (0.0.4)\n",
      "Requirement already satisfied: requests<3,>=2.21.0 in c:\\users\\shilp\\anaconda3\\lib\\site-packages (from tensorboard<2.13,>=2.12->tensorflow-intel==2.12.0->tensorflow) (2.26.0)\n",
      "Requirement already satisfied: markdown>=2.6.8 in c:\\users\\shilp\\anaconda3\\lib\\site-packages (from tensorboard<2.13,>=2.12->tensorflow-intel==2.12.0->tensorflow) (3.4.3)\n",
      "Requirement already satisfied: werkzeug>=1.0.1 in c:\\users\\shilp\\anaconda3\\lib\\site-packages (from tensorboard<2.13,>=2.12->tensorflow-intel==2.12.0->tensorflow) (2.0.2)\n",
      "Requirement already satisfied: tensorboard-data-server<0.8.0,>=0.7.0 in c:\\users\\shilp\\anaconda3\\lib\\site-packages (from tensorboard<2.13,>=2.12->tensorflow-intel==2.12.0->tensorflow) (0.7.0)\n",
      "Requirement already satisfied: google-auth<3,>=1.6.3 in c:\\users\\shilp\\anaconda3\\lib\\site-packages (from tensorboard<2.13,>=2.12->tensorflow-intel==2.12.0->tensorflow) (2.17.2)\n",
      "Requirement already satisfied: google-auth-oauthlib<1.1,>=0.5 in c:\\users\\shilp\\anaconda3\\lib\\site-packages (from tensorboard<2.13,>=2.12->tensorflow-intel==2.12.0->tensorflow) (1.0.0)\n",
      "Requirement already satisfied: tensorboard-plugin-wit>=1.6.0 in c:\\users\\shilp\\anaconda3\\lib\\site-packages (from tensorboard<2.13,>=2.12->tensorflow-intel==2.12.0->tensorflow) (1.8.1)\n",
      "Requirement already satisfied: rsa<5,>=3.1.4 in c:\\users\\shilp\\anaconda3\\lib\\site-packages (from google-auth<3,>=1.6.3->tensorboard<2.13,>=2.12->tensorflow-intel==2.12.0->tensorflow) (4.9)\n",
      "Requirement already satisfied: cachetools<6.0,>=2.0.0 in c:\\users\\shilp\\anaconda3\\lib\\site-packages (from google-auth<3,>=1.6.3->tensorboard<2.13,>=2.12->tensorflow-intel==2.12.0->tensorflow) (5.3.0)\n",
      "Requirement already satisfied: pyasn1-modules>=0.2.1 in c:\\users\\shilp\\anaconda3\\lib\\site-packages (from google-auth<3,>=1.6.3->tensorboard<2.13,>=2.12->tensorflow-intel==2.12.0->tensorflow) (0.2.8)\n",
      "Requirement already satisfied: requests-oauthlib>=0.7.0 in c:\\users\\shilp\\anaconda3\\lib\\site-packages (from google-auth-oauthlib<1.1,>=0.5->tensorboard<2.13,>=2.12->tensorflow-intel==2.12.0->tensorflow) (1.3.1)\n",
      "Requirement already satisfied: importlib-metadata>=4.4 in c:\\users\\shilp\\anaconda3\\lib\\site-packages (from markdown>=2.6.8->tensorboard<2.13,>=2.12->tensorflow-intel==2.12.0->tensorflow) (4.8.1)\n",
      "Requirement already satisfied: zipp>=0.5 in c:\\users\\shilp\\anaconda3\\lib\\site-packages (from importlib-metadata>=4.4->markdown>=2.6.8->tensorboard<2.13,>=2.12->tensorflow-intel==2.12.0->tensorflow) (3.6.0)\n",
      "Requirement already satisfied: pyasn1<0.5.0,>=0.4.6 in c:\\users\\shilp\\anaconda3\\lib\\site-packages (from pyasn1-modules>=0.2.1->google-auth<3,>=1.6.3->tensorboard<2.13,>=2.12->tensorflow-intel==2.12.0->tensorflow) (0.4.8)\n",
      "Requirement already satisfied: certifi>=2017.4.17 in c:\\users\\shilp\\anaconda3\\lib\\site-packages (from requests<3,>=2.21.0->tensorboard<2.13,>=2.12->tensorflow-intel==2.12.0->tensorflow) (2021.10.8)\n",
      "Requirement already satisfied: idna<4,>=2.5 in c:\\users\\shilp\\anaconda3\\lib\\site-packages (from requests<3,>=2.21.0->tensorboard<2.13,>=2.12->tensorflow-intel==2.12.0->tensorflow) (3.2)\n",
      "Requirement already satisfied: charset-normalizer~=2.0.0 in c:\\users\\shilp\\anaconda3\\lib\\site-packages (from requests<3,>=2.21.0->tensorboard<2.13,>=2.12->tensorflow-intel==2.12.0->tensorflow) (2.0.4)\n",
      "Requirement already satisfied: urllib3<1.27,>=1.21.1 in c:\\users\\shilp\\anaconda3\\lib\\site-packages (from requests<3,>=2.21.0->tensorboard<2.13,>=2.12->tensorflow-intel==2.12.0->tensorflow) (1.26.7)\n",
      "Requirement already satisfied: oauthlib>=3.0.0 in c:\\users\\shilp\\anaconda3\\lib\\site-packages (from requests-oauthlib>=0.7.0->google-auth-oauthlib<1.1,>=0.5->tensorboard<2.13,>=2.12->tensorflow-intel==2.12.0->tensorflow) (3.2.2)\n",
      "Requirement already satisfied: pyparsing>=2.0.2 in c:\\users\\shilp\\anaconda3\\lib\\site-packages (from packaging->tensorflow-intel==2.12.0->tensorflow) (3.0.4)\n",
      "Requirement already satisfied: scikit-learn in c:\\users\\shilp\\anaconda3\\lib\\site-packages (0.24.2)\n",
      "Requirement already satisfied: joblib>=0.11 in c:\\users\\shilp\\anaconda3\\lib\\site-packages (from scikit-learn) (1.1.0)\n",
      "Requirement already satisfied: numpy>=1.13.3 in c:\\users\\shilp\\anaconda3\\lib\\site-packages (from scikit-learn) (1.22.4)\n",
      "Requirement already satisfied: threadpoolctl>=2.0.0 in c:\\users\\shilp\\anaconda3\\lib\\site-packages (from scikit-learn) (2.2.0)\n",
      "Requirement already satisfied: scipy>=0.19.1 in c:\\users\\shilp\\anaconda3\\lib\\site-packages (from scikit-learn) (1.7.1)\n",
      "Requirement already satisfied: keras in c:\\users\\shilp\\anaconda3\\lib\\site-packages (2.12.0)\n"
     ]
    }
   ],
   "source": [
    "!pip install pandas\n",
    "!pip install numpy\n",
    "!pip install nltk\n",
    "!pip install tensorflow\n",
    "!pip install scikit-learn\n",
    "!pip install keras"
   ]
  },
  {
   "cell_type": "code",
   "execution_count": 30,
   "metadata": {},
   "outputs": [
    {
     "name": "stderr",
     "output_type": "stream",
     "text": [
      "[nltk_data] Downloading package stopwords to\n",
      "[nltk_data]     C:\\Users\\shilp\\AppData\\Roaming\\nltk_data...\n",
      "[nltk_data]   Package stopwords is already up-to-date!\n"
     ]
    },
    {
     "data": {
      "text/plain": [
       "True"
      ]
     },
     "execution_count": 30,
     "metadata": {},
     "output_type": "execute_result"
    }
   ],
   "source": [
    "import nltk\n",
    "nltk.download('stopwords')"
   ]
  },
  {
   "cell_type": "code",
   "execution_count": 31,
   "metadata": {},
   "outputs": [],
   "source": [
    "import pandas as pd\n",
    "import numpy as np\n",
    "from nltk.corpus import stopwords\n",
    "from nltk.tokenize import RegexpTokenizer\n",
    "from nltk.stem.snowball import SnowballStemmer\n",
    "\n",
    "import matplotlib.pyplot as plt\n",
    "import seaborn as sns\n",
    "import tensorflow as tf\n",
    "\n",
    "from sklearn.feature_extraction.text import TfidfVectorizer\n",
    "from sklearn.model_selection import train_test_split\n",
    "from sklearn.ensemble import RandomForestClassifier\n",
    "from sklearn.naive_bayes import MultinomialNB\n",
    "from sklearn.metrics import confusion_matrix, accuracy_score\n",
    "from sklearn.metrics import classification_report, roc_curve, roc_auc_score\n",
    "\n",
    "from keras.preprocessing.text import Tokenizer\n",
    "from keras.utils import pad_sequences, to_categorical\n",
    "from keras.models import Sequential, Model\n",
    "from keras.layers import *\n",
    "\n",
    "# To ignore any warnings while running code \n",
    "import warnings\n",
    "warnings.filterwarnings('ignore')"
   ]
  },
  {
   "cell_type": "code",
   "execution_count": 32,
   "metadata": {},
   "outputs": [],
   "source": [
    "def load_labelled_data():\n",
    "    print(\"Loading data from CSV file\")\n",
    "    data = pd.read_csv(\"../data/data.csv\", header=None)\n",
    "    data = data.sample(frac=0.5, random_state=42)\n",
    "\n",
    "    print(\"Data loading complete\")\n",
    "    return data"
   ]
  },
  {
   "cell_type": "code",
   "execution_count": 33,
   "metadata": {},
   "outputs": [],
   "source": [
    "# Graph of Data Distribution\n",
    "CountPlot = 0\n",
    "HeatMap = 1\n",
    "\n",
    "def plotGraph(data, title, x_label='', y_label='', graph=CountPlot):\n",
    "    fig, ax = plt.subplots(figsize=(6,5))\n",
    "    if(graph==CountPlot) :\n",
    "        sns.countplot(x = x_label ,data = data,)\n",
    "\n",
    "    elif(graph==HeatMap) :\n",
    "        sns.heatmap(data = data, cmap='Blues', annot=True, fmt='')\n",
    "        plt.xlabel(x_label)\n",
    "        plt.ylabel(y_label)\n",
    "    else:\n",
    "        return\n",
    "    \n",
    "    plt.title(title)\n",
    "    plt.show()"
   ]
  },
  {
   "cell_type": "code",
   "execution_count": 34,
   "metadata": {},
   "outputs": [],
   "source": [
    "def under_sampling(data):\n",
    "    print(\"Initiating undersampling of data\")\n",
    "\n",
    "    fakeReview = data[data['label']==0]\n",
    "    authenticReview = data[data['label']==1]\n",
    "\n",
    "    fakeReviewSize = len(fakeReview)\n",
    "    authenticReviewSize = len(authenticReview)\n",
    "    print(\" Real review count:\", len(authenticReview) )\n",
    "    print(\" Fake review count:\", fakeReviewSize)\n",
    "\n",
    "    if(fakeReviewSize < authenticReviewSize):\n",
    "\n",
    "        authReview_Us_Data = authenticReview.sample(fakeReviewSize)\n",
    "        us_Data = pd.concat([authReview_Us_Data, fakeReview], axis=0)\n",
    "\n",
    "        f_us_data = us_Data[us_Data['label']==0]\n",
    "        r_us_data = us_Data[us_Data['label']==1]\n",
    "        print(\"Under Sampled Fake review count:\", len(f_us_data))\n",
    "        print(\"Under Sampled Real review count:\", len(r_us_data))\n",
    "\n",
    "        print(\"Under Sampling Completed \")\n",
    "    else:\n",
    "        print(\"Require no under sampling \")\n",
    "        us_Data = data\n",
    "    return us_Data\n"
   ]
  },
  {
   "cell_type": "code",
   "execution_count": 35,
   "metadata": {},
   "outputs": [],
   "source": [
    "def splitData(data):\n",
    "    vectorizer = TfidfVectorizer()\n",
    "\n",
    "    print(\"Split labeled data into train and test sets\")\n",
    "    X = vectorizer.fit_transform(data['reviews'])\n",
    "    y = data['label']\n",
    "    X_train, X_test, y_train, y_test = train_test_split(X, y, \n",
    "                                        test_size=0.2, stratify=y, random_state=0)\n",
    "    return X_train, X_test, y_train, y_test"
   ]
  },
  {
   "cell_type": "code",
   "execution_count": 36,
   "metadata": {},
   "outputs": [],
   "source": [
    "def model_accuracy_graph(history):\n",
    "    plt.plot(history['accuracy'])\n",
    "    plt.plot(history['val_accuracy'])\n",
    "    plt.title('model accuracy')\n",
    "    plt.ylabel('accuracy')\n",
    "    plt.xlabel('epoch')\n",
    "    plt.legend(['train', 'val'], loc='upper left')\n",
    "    plt.show()\n"
   ]
  },
  {
   "cell_type": "code",
   "execution_count": 37,
   "metadata": {},
   "outputs": [],
   "source": [
    "def roc_graph(y_true, y_pred):\n",
    "    fpr, tpr, thresholds = roc_curve(y_true, y_pred)\n",
    "    auc = roc_auc_score(y_true, y_pred)\n",
    "\n",
    "    plt.plot(fpr, tpr, label='ROC curve (area = %0.2f)' % auc)\n",
    "    plt.plot([0, 1], [0, 1], 'k--')\n",
    "    plt.xlim([0.0, 1.0])\n",
    "    plt.ylim([0.0, 1.05])\n",
    "    plt.xlabel('False Positive Rate')\n",
    "    plt.ylabel('True Positive Rate')\n",
    "    plt.title('Receiver operating characteristic')\n",
    "    plt.legend(loc=\"lower right\")\n",
    "    plt.show()"
   ]
  },
  {
   "cell_type": "code",
   "execution_count": 38,
   "metadata": {},
   "outputs": [],
   "source": [
    "def prediction(y_pred):\n",
    "    return np.rint(y_pred).astype(int).flatten().tolist()"
   ]
  },
  {
   "cell_type": "code",
   "execution_count": 39,
   "metadata": {},
   "outputs": [],
   "source": [
    "def report(model, test, pred):\n",
    "    accuracy = accuracy_score(test, pred)*100\n",
    "    print(f\"Model Evaluation accuracy: {accuracy}\")\n",
    "    print(\"Classification Report :\\n\",classification_report(test,pred))\n",
    "    cm = confusion_matrix(test, pred)\n",
    "    plotGraph(cm,model, 'Y Predict', 'Y Test', HeatMap)\n",
    "    \n",
    "    tn = cm[0,0]\n",
    "    tp=cm[1,1]\n",
    "\n",
    "    return tp, tn, accuracy"
   ]
  },
  {
   "cell_type": "code",
   "execution_count": 40,
   "metadata": {},
   "outputs": [],
   "source": [
    "def modelAccuracy(r_acc, n_acc, c_acc, l_acc, cbl_acc):\n",
    "    print(\"\\n\\n\")\n",
    "    print('        Models        |    Accuracy(%)   ')\n",
    "    print('='*42)\n",
    "    print('    Random Forest     |     ',r_acc)\n",
    "    print('-'*42)\n",
    "    print('     Naive Bayes      |     ',n_acc)\n",
    "    print('-'*42)\n",
    "    print('         CNN          |     ',c_acc)\n",
    "    print('-'*42)\n",
    "    print('         LSTM         |     ',l_acc)\n",
    "    print('-'*42)\n",
    "    print('      CNN-BiLSTM      |     ',cbl_acc)"
   ]
  },
  {
   "attachments": {},
   "cell_type": "markdown",
   "metadata": {},
   "source": [
    "Data Exploration"
   ]
  },
  {
   "cell_type": "code",
   "execution_count": 41,
   "metadata": {},
   "outputs": [],
   "source": [
    "def dataExploration():\n",
    "    print(\"Data Exploration\")\n",
    "\n",
    "    #load data\n",
    "    data = load_labelled_data()\n",
    "\n",
    "    print(\"\\nData information\")\n",
    "    data.info()\n",
    "\n",
    "    return data"
   ]
  },
  {
   "attachments": {},
   "cell_type": "markdown",
   "metadata": {},
   "source": [
    "Data Manipulation & Data Analysis"
   ]
  },
  {
   "cell_type": "code",
   "execution_count": 42,
   "metadata": {},
   "outputs": [],
   "source": [
    "def dataManipulation(data):\n",
    "\n",
    "    print(\"\\nData Manipulation\")\n",
    "    data['reviews'] = data[1] + ' ' + data[2]\n",
    "\n",
    "    # In actual data label 1 for negative 2 for positive reviews\n",
    "    data['label'] = data[0].apply(\n",
    "        lambda x: 0 if x==1 else 1\n",
    "    )\n",
    "\n",
    "    print(data['label'].value_counts())\n",
    "    \n",
    "    plotGraph(data, 'Proportional Distribution of Target Variable \\nbefore under sampling', 'label', '', CountPlot)\n",
    "    underSampledData = under_sampling(data)\n",
    "    if(len(data)!= len(underSampledData)):\n",
    "        plotGraph(underSampledData, 'Proportional Distribution of Target Variable \\nafter under sampling', 'label', '', CountPlot)\n",
    "\n",
    "    return underSampledData"
   ]
  },
  {
   "attachments": {},
   "cell_type": "markdown",
   "metadata": {},
   "source": [
    "Data Preprocessing"
   ]
  },
  {
   "cell_type": "code",
   "execution_count": 43,
   "metadata": {},
   "outputs": [],
   "source": [
    "def preProcessData(data):\n",
    "    print(\"\\nInitiating data pre-processing\")\n",
    "    data['reviews'] = data['reviews'].apply(lambda x: str(x))\n",
    "    # Lowercasing Words\n",
    "    data['reviews'] = data['reviews'].apply(\n",
    "        lambda x: x.lower())\n",
    "    \n",
    "    # Remove Stopwords\n",
    "    stopWords = stopwords.words('english')\n",
    "    data['reviews'] = data['reviews'].apply(\n",
    "        lambda x: ' '.join(word for word in x.split() if word not in stopWords))\n",
    "    \n",
    "    # Remove Punctuations\n",
    "    tokenizer = RegexpTokenizer(r'\\w+')\n",
    "    data['reviews'] = data['reviews'].apply(\n",
    "        lambda x: ' '.join(word for word in tokenizer.tokenize(x)))\n",
    "    \n",
    "    # Stem the words\n",
    "    stemmer = SnowballStemmer('english')\n",
    "    data['reviews'] = data['reviews'].apply(\n",
    "        lambda x: ' '.join(stemmer.stem(word) for word in x.split()))\n",
    "\n",
    "    print(\"Data preprocessing completed\\n\")\n",
    "    return data"
   ]
  },
  {
   "attachments": {},
   "cell_type": "markdown",
   "metadata": {},
   "source": [
    "Random Forest"
   ]
  },
  {
   "cell_type": "code",
   "execution_count": 44,
   "metadata": {},
   "outputs": [],
   "source": [
    "def rfModel(data):\n",
    "    \n",
    "    print(\"\\nRandom Forest Classifier\\n\")\n",
    "    X_train, X_test, y_train, y_test = splitData(data)\n",
    "\n",
    "    print(\"Train a Random Forest Classifier on labeled data\")\n",
    "    rf = RandomForestClassifier(random_state= 10,max_depth = 1000000000,\n",
    "                                max_leaf_nodes=10, n_jobs=-1)\n",
    "    rf.fit(X_train, y_train)\n",
    "\n",
    "    print(\"Evaluate the classifier on the test set\")\n",
    "    y_pred_test = rf.predict(X_test)\n",
    "\n",
    "    tp, tn, accuracy = report('Random Forest Classifier', y_test, y_pred_test)\n",
    "    \n",
    "    return accuracy"
   ]
  },
  {
   "attachments": {},
   "cell_type": "markdown",
   "metadata": {},
   "source": [
    "Naive Bayes"
   ]
  },
  {
   "cell_type": "code",
   "execution_count": 45,
   "metadata": {},
   "outputs": [],
   "source": [
    "def nbModel(data):\n",
    "    print(\"\\nNaive Bayes Classifier\\n\")\n",
    "\n",
    "    X_train, X_test, y_train, y_test = splitData(data)\n",
    "\n",
    "    print(\"Train Naive Bayes on labeled data\")\n",
    "    nb = MultinomialNB()\n",
    "    nb.fit(X_train, y_train)\n",
    "\n",
    "    print(\"Evaluate the classifier on the test set\")\n",
    "    y_pred_test = nb.predict(X_test)\n",
    "    tp, tn, accuracy = report('Naive Bayes', y_test, y_pred_test)\n",
    "\n",
    "    return accuracy"
   ]
  },
  {
   "attachments": {},
   "cell_type": "markdown",
   "metadata": {},
   "source": [
    "Convolution Neural Network"
   ]
  },
  {
   "cell_type": "code",
   "execution_count": 46,
   "metadata": {},
   "outputs": [],
   "source": [
    "def cnn(data) :\n",
    "    print(\"\\nConvolution Neural Network\\n\")\n",
    "    print(\"Spliting train data and test data\")\n",
    "    \n",
    "    train = data.sample(frac=0.8, random_state=42)\n",
    "    test = data.sample(frac=0.2, random_state=42)\n",
    "\n",
    "    x_train = train['reviews']\n",
    "    x_test = test['reviews']\n",
    "\n",
    "    y_train = train['label']\n",
    "    y_test = test['label']\n",
    "\n",
    "    max_num = 50000\n",
    "\n",
    "    tok = Tokenizer(num_words=max_num)\n",
    "    tok.fit_on_texts(data['reviews'])\n",
    "        \n",
    "    x_train_seq = tok.texts_to_sequences(x_train)\n",
    "    max_len = max([len(i) for i in x_train_seq])\n",
    "    x_test_seq = tok.texts_to_sequences(x_test)\n",
    "\n",
    "    x_train = pad_sequences(x_train_seq, maxlen=max_len)\n",
    "    x_test = pad_sequences(x_test_seq, maxlen=max_len)\n",
    "    voc_size = len(tok.word_index)+1\n",
    "\n",
    "    print(\"CNN Model building\")\n",
    "\n",
    "    model = Sequential(name=\"CNN\")\n",
    "    model.add(Embedding(voc_size,32,input_length=max_len))\n",
    "    model.add(Dropout(0.2))\n",
    "    model.add(Conv1D(64,5,padding='valid',activation='relu',strides=1))\n",
    "    model.add(GlobalMaxPooling1D())\n",
    "    model.add(Dense(128,activation='relu'))\n",
    "    model.add(Dropout(0.2))\n",
    "    model.add(Dense(1,activation='sigmoid'))\n",
    "    model.compile(loss='binary_crossentropy',optimizer='rmsprop',metrics=['accuracy'])\n",
    "    model.summary()\n",
    "    \n",
    "    history=model.fit(x_train,y_train,batch_size=32,epochs=10,verbose=1,validation_split=0.2)\n",
    "\n",
    "    print(\"Evaluate model on test data\")\n",
    "    y_pred = model.predict(x_test)\n",
    "    pred = prediction(y_pred)\n",
    "    model_accuracy_graph(history.history)\n",
    "    tp, tn, accuracy = report('CNN', y_test, pred)\n",
    "\n",
    "    return accuracy"
   ]
  },
  {
   "attachments": {},
   "cell_type": "markdown",
   "metadata": {},
   "source": [
    "Long-Short Term Memory"
   ]
  },
  {
   "cell_type": "code",
   "execution_count": 47,
   "metadata": {},
   "outputs": [],
   "source": [
    "def lstm(data):\n",
    "\n",
    "    print(\"\\nLong-Short Term Memory\\n\")\n",
    "\n",
    "    print(\"Spliting train data and test data\")\n",
    "    train = data.sample(frac=0.8, random_state=42)\n",
    "    test = data.sample(frac=0.2, random_state=42)\n",
    "\n",
    "    x_train = train['reviews']\n",
    "    x_test = test['reviews']\n",
    "\n",
    "    y_train = train['label']\n",
    "    y_test = test['label']\n",
    "\n",
    "    max_num = 5000\n",
    "\n",
    "    tok = Tokenizer(num_words=max_num)\n",
    "    tok.fit_on_texts(data['reviews'])\n",
    "        \n",
    "    x_train_seq = tok.texts_to_sequences(x_train)\n",
    "    max_len = max([len(i) for i in x_train_seq])\n",
    "    x_test_seq = tok.texts_to_sequences(x_test)\n",
    "\n",
    "    x_train = pad_sequences(x_train_seq, maxlen=max_len, padding=\"pre\")\n",
    "    x_test = pad_sequences(x_test_seq, maxlen=max_len, padding=\"pre\")\n",
    "    voc_size = len(tok.word_index)+1\n",
    "\n",
    "    print(\"LSTM Model building\")\n",
    "    model = Sequential(name=\"LSTM\")\n",
    "    model.add(Embedding(voc_size, 32, input_length=max_len))\n",
    "    model.add(LSTM(100))\n",
    "    model.add(Dropout(0.4))\n",
    "    model.add(Dense(20, activation=\"relu\"))\n",
    "    model.add(Dropout(0.5))\n",
    "    model.add(Dense(1, activation = \"sigmoid\"))\n",
    "\n",
    "    model.compile(optimizer = \"adam\", loss = \"binary_crossentropy\", metrics = [\"accuracy\"])\n",
    "    model.summary()\n",
    "\n",
    "    history = model.fit(x_train, y_train, epochs = 10, batch_size=16, validation_split=0.2)\n",
    "\n",
    "    print(\"Evaluate model on test data\")\n",
    "    y_pred = model.predict(x_test)\n",
    "    pred = prediction(y_pred)\n",
    "    model_accuracy_graph(history.history)\n",
    "    tp, tn, accuracy = report('LSTM', y_test, pred)\n",
    "\n",
    "    return accuracy"
   ]
  },
  {
   "attachments": {},
   "cell_type": "markdown",
   "metadata": {},
   "source": [
    "CNN-BiLSTM"
   ]
  },
  {
   "cell_type": "code",
   "execution_count": 56,
   "metadata": {},
   "outputs": [],
   "source": [
    "def cnn_bi_lstm(data):\n",
    "    \n",
    "    print(\"\\nCNN-BiLSTM\\n\")\n",
    "\n",
    "    print(\"Spliting train data and test data\")\n",
    "    train = data.sample(frac=0.8, random_state=42)\n",
    "    test = data.sample(frac=0.2, random_state=42)\n",
    "\n",
    "    x_train = train['reviews']\n",
    "    x_test = test['reviews']\n",
    "\n",
    "    y_train = train['label']\n",
    "    y_test = test['label']\n",
    "\n",
    "    max_length = 5000\n",
    "    max_features = 20000\n",
    "    embedding_dim = 300\n",
    "\n",
    "    tok = Tokenizer(num_words=max_features)\n",
    "    tok.fit_on_texts(data['reviews'])\n",
    "        \n",
    "    x_train_seq = tok.texts_to_sequences(x_train)\n",
    "    x_test_seq = tok.texts_to_sequences(x_test)\n",
    "\n",
    "    np_x_train = pad_sequences(x_train_seq, maxlen=max_length,padding=\"post\")\n",
    "    np_x_test = pad_sequences(x_test_seq, maxlen=max_length, padding=\"post\")\n",
    "\n",
    "    np_y_train = to_categorical(y_train)\n",
    "\n",
    "    class_num = np_y_train.shape[1]\n",
    "\n",
    "    print(\"CNN-BiLSTM Model building\")\n",
    "    inputs = Input(shape=(max_length))\n",
    "    embeddings = Embedding(max_features, embedding_dim, input_length=max_length)(inputs)\n",
    "\n",
    "    conv_1 = Conv1D(32, 9, activation='relu')(embeddings)\n",
    "    maxpool_1 = MaxPooling1D(16)(conv_1)\n",
    "    dropout_1 = Dropout(0.2)(maxpool_1)\n",
    "\n",
    "    conv_2 = Conv1D(32, 7, activation='relu')(dropout_1)\n",
    "    maxpool_2 = MaxPooling1D(8)(conv_2)\n",
    "    dropout_2 = Dropout(0.2)(maxpool_2)\n",
    "\n",
    "    bilstm = Bidirectional(LSTM(32, dropout=0.2, recurrent_dropout=0.2))(dropout_2)\n",
    "    preds = Dense(class_num, activation='softmax')(bilstm)\n",
    "\n",
    "    model = Model(inputs=inputs, outputs=preds, name=\"CNN-BiLSTM\")\n",
    "    model.compile(optimizer='adam', loss='categorical_crossentropy', metrics=['accuracy'])\n",
    "\n",
    "    model.summary()\n",
    "\n",
    "    history = model.fit(np_x_train, np_y_train, validation_split=0.2, epochs=10, batch_size=32, verbose=1)\n",
    "\n",
    "    print(\"Evaluate model on test data\")\n",
    "    y_pred = model.predict(np_x_test, batch_size=32, verbose=1)\n",
    "\n",
    "    test_num = y_test.shape[0] \n",
    "    votes =[]\n",
    "    for i in range(test_num):\n",
    "        votes.append(y_pred[i].argmax(axis=0).astype(int))\n",
    "\n",
    "    model_accuracy_graph(history.history)\n",
    "    tp, tn, accuracy = report('CNN-BiLSTM', y_test, votes)\n",
    "    roc_graph(y_test, votes)\n",
    "\n",
    "    return accuracy"
   ]
  },
  {
   "cell_type": "code",
   "execution_count": 49,
   "metadata": {
    "scrolled": true
   },
   "outputs": [
    {
     "name": "stdout",
     "output_type": "stream",
     "text": [
      "Data Exploration\n",
      "Loading data from CSV file\n",
      "Data loading complete\n",
      "\n",
      "Data information\n",
      "<class 'pandas.core.frame.DataFrame'>\n",
      "Int64Index: 200000 entries, 23218 to 139099\n",
      "Data columns (total 3 columns):\n",
      " #   Column  Non-Null Count   Dtype \n",
      "---  ------  --------------   ----- \n",
      " 0   0       200000 non-null  int64 \n",
      " 1   1       199994 non-null  object\n",
      " 2   2       200000 non-null  object\n",
      "dtypes: int64(1), object(2)\n",
      "memory usage: 6.1+ MB\n"
     ]
    }
   ],
   "source": [
    "data = dataExploration()"
   ]
  },
  {
   "cell_type": "code",
   "execution_count": 50,
   "metadata": {},
   "outputs": [
    {
     "name": "stdout",
     "output_type": "stream",
     "text": [
      "\n",
      "Data Manipulation\n",
      "0    100177\n",
      "1     99823\n",
      "Name: label, dtype: int64\n"
     ]
    },
    {
     "data": {
      "image/png": "[encoded data removed]",
      "text/plain": [
       "<Figure size 432x360 with 1 Axes>"
      ]
     },
     "metadata": {
      "needs_background": "light"
     },
     "output_type": "display_data"
    },
    {
     "name": "stdout",
     "output_type": "stream",
     "text": [
      "Initiating undersampling of data\n",
      " Real review count: 99823\n",
      " Fake review count: 100177\n",
      "Require no under sampling \n",
      "\n",
      "Initiating data pre-processing\n",
      "Data preprocessing completed\n",
      "\n"
     ]
    }
   ],
   "source": [
    "manipulatedData = dataManipulation(data)\n",
    "preProcessedData = preProcessData(manipulatedData)"
   ]
  },
  {
   "cell_type": "code",
   "execution_count": 82,
   "metadata": {},
   "outputs": [
    {
     "name": "stdout",
     "output_type": "stream",
     "text": [
      "\n",
      "Random Forest Classifier\n",
      "\n",
      "Split labeled data into train and test sets\n",
      "Train a Random Forest Classifier on labeled data\n",
      "Evaluate the classifier on the test set\n",
      "Model Evaluation accuracy: 81.2625\n",
      "Classification Report :\n",
      "               precision    recall  f1-score   support\n",
      "\n",
      "           0       0.83      0.79      0.81     20035\n",
      "           1       0.80      0.83      0.82     19965\n",
      "\n",
      "    accuracy                           0.81     40000\n",
      "   macro avg       0.81      0.81      0.81     40000\n",
      "weighted avg       0.81      0.81      0.81     40000\n",
      "\n"
     ]
    },
    {
     "data": {
      "image/png": "[encoded data removed]",
      "text/plain": [
       "<Figure size 432x360 with 2 Axes>"
      ]
     },
     "metadata": {
      "needs_background": "light"
     },
     "output_type": "display_data"
    }
   ],
   "source": [
    "r_acc = rfModel(preProcessedData)"
   ]
  },
  {
   "cell_type": "code",
   "execution_count": 83,
   "metadata": {},
   "outputs": [
    {
     "name": "stdout",
     "output_type": "stream",
     "text": [
      "\n",
      "Naive Bayes Classifier\n",
      "\n",
      "Split labeled data into train and test sets\n",
      "Train Naive Bayes on labeled data\n",
      "Evaluate the classifier on the test set\n",
      "Model Evaluation accuracy: 82.965\n",
      "Classification Report :\n",
      "               precision    recall  f1-score   support\n",
      "\n",
      "           0       0.81      0.86      0.83     20035\n",
      "           1       0.85      0.80      0.82     19965\n",
      "\n",
      "    accuracy                           0.83     40000\n",
      "   macro avg       0.83      0.83      0.83     40000\n",
      "weighted avg       0.83      0.83      0.83     40000\n",
      "\n"
     ]
    },
    {
     "data": {
      "image/png": "[encoded data removed]",
      "text/plain": [
       "<Figure size 432x360 with 2 Axes>"
      ]
     },
     "metadata": {
      "needs_background": "light"
     },
     "output_type": "display_data"
    }
   ],
   "source": [
    "n_acc = nbModel(preProcessedData)"
   ]
  },
  {
   "cell_type": "code",
   "execution_count": 84,
   "metadata": {},
   "outputs": [
    {
     "name": "stdout",
     "output_type": "stream",
     "text": [
      "\n",
      "Convolution Neural Network\n",
      "\n",
      "Spliting train data and test data\n",
      "CNN Model building\n",
      "Model: \"CNN\"\n",
      "_________________________________________________________________\n",
      " Layer (type)                Output Shape              Param #   \n",
      "=================================================================\n",
      " embedding_4 (Embedding)     (None, 165, 32)           4257440   \n",
      "                                                                 \n",
      " dropout_8 (Dropout)         (None, 165, 32)           0         \n",
      "                                                                 \n",
      " conv1d_8 (Conv1D)           (None, 161, 64)           10304     \n",
      "                                                                 \n",
      " global_max_pooling1d (Globa  (None, 64)               0         \n",
      " lMaxPooling1D)                                                  \n",
      "                                                                 \n",
      " dense_4 (Dense)             (None, 128)               8320      \n",
      "                                                                 \n",
      " dropout_9 (Dropout)         (None, 128)               0         \n",
      "                                                                 \n",
      " dense_5 (Dense)             (None, 1)                 129       \n",
      "                                                                 \n",
      "=================================================================\n",
      "Total params: 4,276,193\n",
      "Trainable params: 4,276,193\n",
      "Non-trainable params: 0\n",
      "_________________________________________________________________\n",
      "Epoch 1/10\n",
      "4000/4000 [==============================] - 153s 38ms/step - loss: 0.3352 - accuracy: 0.8525 - val_loss: 0.2742 - val_accuracy: 0.8832\n",
      "Epoch 2/10\n",
      "4000/4000 [==============================] - 160s 40ms/step - loss: 0.2706 - accuracy: 0.8883 - val_loss: 0.2633 - val_accuracy: 0.8907\n",
      "Epoch 3/10\n",
      "4000/4000 [==============================] - 160s 40ms/step - loss: 0.2505 - accuracy: 0.8980 - val_loss: 0.2589 - val_accuracy: 0.8900\n",
      "Epoch 4/10\n",
      "4000/4000 [==============================] - 180s 45ms/step - loss: 0.2375 - accuracy: 0.9051 - val_loss: 0.2566 - val_accuracy: 0.8933\n",
      "Epoch 5/10\n",
      "4000/4000 [==============================] - 170s 43ms/step - loss: 0.2269 - accuracy: 0.9105 - val_loss: 0.2536 - val_accuracy: 0.8960\n",
      "Epoch 6/10\n",
      "4000/4000 [==============================] - 115s 29ms/step - loss: 0.2171 - accuracy: 0.9153 - val_loss: 0.2566 - val_accuracy: 0.8939\n",
      "Epoch 7/10\n",
      "4000/4000 [==============================] - 112s 28ms/step - loss: 0.2098 - accuracy: 0.9193 - val_loss: 0.2618 - val_accuracy: 0.8955\n",
      "Epoch 8/10\n",
      "4000/4000 [==============================] - 138s 35ms/step - loss: 0.2025 - accuracy: 0.9220 - val_loss: 0.2584 - val_accuracy: 0.8938\n",
      "Epoch 9/10\n",
      "4000/4000 [==============================] - 133s 33ms/step - loss: 0.1952 - accuracy: 0.9263 - val_loss: 0.2739 - val_accuracy: 0.8915\n",
      "Epoch 10/10\n",
      "4000/4000 [==============================] - 135s 34ms/step - loss: 0.1900 - accuracy: 0.9287 - val_loss: 0.2555 - val_accuracy: 0.8952\n",
      "Evaluate model on test data\n",
      "1250/1250 [==============================] - 4s 3ms/step\n"
     ]
    },
    {
     "data": {
      "image/png": "[encoded data removed]",
      "text/plain": [
       "<Figure size 432x288 with 1 Axes>"
      ]
     },
     "metadata": {
      "needs_background": "light"
     },
     "output_type": "display_data"
    },
    {
     "name": "stdout",
     "output_type": "stream",
     "text": [
      "Model Evaluation accuracy: 95.085\n",
      "Classification Report :\n",
      "               precision    recall  f1-score   support\n",
      "\n",
      "           0       0.95      0.96      0.95     20108\n",
      "           1       0.95      0.95      0.95     19892\n",
      "\n",
      "    accuracy                           0.95     40000\n",
      "   macro avg       0.95      0.95      0.95     40000\n",
      "weighted avg       0.95      0.95      0.95     40000\n",
      "\n"
     ]
    },
    {
     "data": {
      "image/png": "[encoded data removed]",
      "text/plain": [
       "<Figure size 432x360 with 2 Axes>"
      ]
     },
     "metadata": {
      "needs_background": "light"
     },
     "output_type": "display_data"
    }
   ],
   "source": [
    "c_acc = cnn(preProcessedData)    "
   ]
  },
  {
   "cell_type": "code",
   "execution_count": 85,
   "metadata": {},
   "outputs": [
    {
     "name": "stdout",
     "output_type": "stream",
     "text": [
      "\n",
      "Long-Short Term Memory\n",
      "\n",
      "Spliting train data and test data\n",
      "LSTM Model building\n",
      "Model: \"LSTM\"\n",
      "_________________________________________________________________\n",
      " Layer (type)                Output Shape              Param #   \n",
      "=================================================================\n",
      " embedding_5 (Embedding)     (None, 148, 32)           4257440   \n",
      "                                                                 \n",
      " lstm_4 (LSTM)               (None, 100)               53200     \n",
      "                                                                 \n",
      " dropout_10 (Dropout)        (None, 100)               0         \n",
      "                                                                 \n",
      " dense_6 (Dense)             (None, 20)                2020      \n",
      "                                                                 \n",
      " dropout_11 (Dropout)        (None, 20)                0         \n",
      "                                                                 \n",
      " dense_7 (Dense)             (None, 1)                 21        \n",
      "                                                                 \n",
      "=================================================================\n",
      "Total params: 4,312,681\n",
      "Trainable params: 4,312,681\n",
      "Non-trainable params: 0\n",
      "_________________________________________________________________\n",
      "Epoch 1/10\n",
      "8000/8000 [==============================] - 883s 110ms/step - loss: 0.3459 - accuracy: 0.8593 - val_loss: 0.2838 - val_accuracy: 0.8793\n",
      "Epoch 2/10\n",
      "8000/8000 [==============================] - 847s 106ms/step - loss: 0.2784 - accuracy: 0.8914 - val_loss: 0.2695 - val_accuracy: 0.8871\n",
      "Epoch 3/10\n",
      "8000/8000 [==============================] - 859s 107ms/step - loss: 0.2526 - accuracy: 0.9025 - val_loss: 0.2610 - val_accuracy: 0.8902\n",
      "Epoch 4/10\n",
      "8000/8000 [==============================] - 858s 107ms/step - loss: 0.2307 - accuracy: 0.9122 - val_loss: 0.2693 - val_accuracy: 0.8889\n",
      "Epoch 5/10\n",
      "8000/8000 [==============================] - 844s 106ms/step - loss: 0.2106 - accuracy: 0.9215 - val_loss: 0.2749 - val_accuracy: 0.8853\n",
      "Epoch 6/10\n",
      "8000/8000 [==============================] - 845s 106ms/step - loss: 0.1927 - accuracy: 0.9278 - val_loss: 0.3085 - val_accuracy: 0.8849\n",
      "Epoch 7/10\n",
      "8000/8000 [==============================] - 873s 109ms/step - loss: 0.1732 - accuracy: 0.9348 - val_loss: 0.3510 - val_accuracy: 0.8836\n",
      "Epoch 8/10\n",
      "8000/8000 [==============================] - 851s 106ms/step - loss: 0.1555 - accuracy: 0.9414 - val_loss: 0.3808 - val_accuracy: 0.8780\n",
      "Epoch 9/10\n",
      "8000/8000 [==============================] - 861s 108ms/step - loss: 0.1416 - accuracy: 0.9471 - val_loss: 0.3948 - val_accuracy: 0.8811\n",
      "Epoch 10/10\n",
      "8000/8000 [==============================] - 852s 107ms/step - loss: 0.1257 - accuracy: 0.9533 - val_loss: 0.4470 - val_accuracy: 0.8753\n",
      "Evaluate model on test data\n",
      "1250/1250 [==============================] - 38s 30ms/step\n"
     ]
    },
    {
     "data": {
      "image/png": "[encoded data removed]",
      "text/plain": [
       "<Figure size 432x288 with 1 Axes>"
      ]
     },
     "metadata": {
      "needs_background": "light"
     },
     "output_type": "display_data"
    },
    {
     "name": "stdout",
     "output_type": "stream",
     "text": [
      "Model Evaluation accuracy: 96.99\n",
      "Classification Report :\n",
      "               precision    recall  f1-score   support\n",
      "\n",
      "           0       0.96      0.98      0.97     20108\n",
      "           1       0.98      0.96      0.97     19892\n",
      "\n",
      "    accuracy                           0.97     40000\n",
      "   macro avg       0.97      0.97      0.97     40000\n",
      "weighted avg       0.97      0.97      0.97     40000\n",
      "\n"
     ]
    },
    {
     "data": {
      "image/png": "[encoded data removed]",
      "text/plain": [
       "<Figure size 432x360 with 2 Axes>"
      ]
     },
     "metadata": {
      "needs_background": "light"
     },
     "output_type": "display_data"
    }
   ],
   "source": [
    "l_acc = lstm(preProcessedData)    "
   ]
  },
  {
   "cell_type": "code",
   "execution_count": 57,
   "metadata": {},
   "outputs": [
    {
     "name": "stdout",
     "output_type": "stream",
     "text": [
      "\n",
      "CNN-BiLSTM\n",
      "\n",
      "Spliting train data and test data\n",
      "CNN-BiLSTM Model building\n",
      "Model: \"CNN-BiLSTM\"\n",
      "_________________________________________________________________\n",
      " Layer (type)                Output Shape              Param #   \n",
      "=================================================================\n",
      " input_4 (InputLayer)        [(None, 5000)]            0         \n",
      "                                                                 \n",
      " embedding_3 (Embedding)     (None, 5000, 300)         6000000   \n",
      "                                                                 \n",
      " conv1d_6 (Conv1D)           (None, 4992, 32)          86432     \n",
      "                                                                 \n",
      " max_pooling1d_6 (MaxPooling  (None, 312, 32)          0         \n",
      " 1D)                                                             \n",
      "                                                                 \n",
      " dropout_6 (Dropout)         (None, 312, 32)           0         \n",
      "                                                                 \n",
      " conv1d_7 (Conv1D)           (None, 306, 32)           7200      \n",
      "                                                                 \n",
      " max_pooling1d_7 (MaxPooling  (None, 38, 32)           0         \n",
      " 1D)                                                             \n",
      "                                                                 \n",
      " dropout_7 (Dropout)         (None, 38, 32)            0         \n",
      "                                                                 \n",
      " bidirectional_3 (Bidirectio  (None, 64)               16640     \n",
      " nal)                                                            \n",
      "                                                                 \n",
      " dense_3 (Dense)             (None, 2)                 130       \n",
      "                                                                 \n",
      "=================================================================\n",
      "Total params: 6,110,402\n",
      "Trainable params: 6,110,402\n",
      "Non-trainable params: 0\n",
      "_________________________________________________________________\n",
      "Epoch 1/10\n",
      "4000/4000 [==============================] - 9979s 2s/step - loss: 0.3455 - accuracy: 0.8465 - val_loss: 0.2899 - val_accuracy: 0.8783\n",
      "Epoch 2/10\n",
      "4000/4000 [==============================] - 9196s 2s/step - loss: 0.2431 - accuracy: 0.9036 - val_loss: 0.2883 - val_accuracy: 0.8826\n",
      "Epoch 3/10\n",
      "4000/4000 [==============================] - 9054s 2s/step - loss: 0.1680 - accuracy: 0.9375 - val_loss: 0.3122 - val_accuracy: 0.8743\n",
      "Epoch 4/10\n",
      "4000/4000 [==============================] - 7864s 2s/step - loss: 0.1117 - accuracy: 0.9603 - val_loss: 0.3639 - val_accuracy: 0.8711\n",
      "Epoch 5/10\n",
      "4000/4000 [==============================] - 6695s 2s/step - loss: 0.0788 - accuracy: 0.9725 - val_loss: 0.4260 - val_accuracy: 0.8650\n",
      "Epoch 6/10\n",
      "4000/4000 [==============================] - 6698s 2s/step - loss: 0.0604 - accuracy: 0.9798 - val_loss: 0.4867 - val_accuracy: 0.8621\n",
      "Epoch 7/10\n",
      "4000/4000 [==============================] - 7015s 2s/step - loss: 0.0501 - accuracy: 0.9833 - val_loss: 0.5197 - val_accuracy: 0.8604\n",
      "Epoch 8/10\n",
      "4000/4000 [==============================] - 6345s 2s/step - loss: 0.0438 - accuracy: 0.9855 - val_loss: 0.5389 - val_accuracy: 0.8590\n",
      "Epoch 9/10\n",
      "4000/4000 [==============================] - 6704s 2s/step - loss: 0.0372 - accuracy: 0.9883 - val_loss: 0.5195 - val_accuracy: 0.8563\n",
      "Epoch 10/10\n",
      "4000/4000 [==============================] - 7050s 2s/step - loss: 0.0326 - accuracy: 0.9899 - val_loss: 0.5722 - val_accuracy: 0.8584\n",
      "Evaluate model on test data\n",
      "1250/1250 [==============================] - 457s 364ms/step\n"
     ]
    },
    {
     "data": {
      "image/png": "[encoded data removed]",
      "text/plain": [
       "<Figure size 432x288 with 1 Axes>"
      ]
     },
     "metadata": {
      "needs_background": "light"
     },
     "output_type": "display_data"
    },
    {
     "name": "stdout",
     "output_type": "stream",
     "text": [
      "Model Evaluation accuracy: 99.7375\n",
      "Classification Report :\n",
      "               precision    recall  f1-score   support\n",
      "\n",
      "           0       1.00      1.00      1.00     20108\n",
      "           1       1.00      1.00      1.00     19892\n",
      "\n",
      "    accuracy                           1.00     40000\n",
      "   macro avg       1.00      1.00      1.00     40000\n",
      "weighted avg       1.00      1.00      1.00     40000\n",
      "\n"
     ]
    },
    {
     "data": {
      "image/png": "[encoded data removed]",
      "text/plain": [
       "<Figure size 432x360 with 2 Axes>"
      ]
     },
     "metadata": {
      "needs_background": "light"
     },
     "output_type": "display_data"
    },
    {
     "data": {
      "image/png": "[encoded data removed]",
      "text/plain": [
       "<Figure size 432x288 with 1 Axes>"
      ]
     },
     "metadata": {
      "needs_background": "light"
     },
     "output_type": "display_data"
    }
   ],
   "source": [
    "cbl_acc = cnn_bi_lstm(preProcessedData)"
   ]
  },
  {
   "cell_type": "code",
   "execution_count": 86,
   "metadata": {},
   "outputs": [
    {
     "name": "stdout",
     "output_type": "stream",
     "text": [
      "\n",
      "\n",
      "\n",
      "        Models        |    Accuracy(%)   \n",
      "==========================================\n",
      "    Random Forest     |      81.2625\n",
      "------------------------------------------\n",
      "     Naive Bayes      |      82.965\n",
      "------------------------------------------\n",
      "         CNN          |      95.085\n",
      "------------------------------------------\n",
      "         LSTM         |      96.99\n",
      "------------------------------------------\n",
      "      CNN-BiLSTM      |      99.7375\n"
     ]
    }
   ],
   "source": [
    "modelAccuracy(r_acc, n_acc, c_acc, l_acc, cbl_acc)"
   ]
  }
 ],
 "metadata": {
  "kernelspec": {
   "display_name": "Python 3 (ipykernel)",
   "language": "python",
   "name": "python3"
  },
  "language_info": {
   "codemirror_mode": {
    "name": "ipython",
    "version": 3
   },
   "file_extension": ".py",
   "mimetype": "text/x-python",
   "name": "python",
   "nbconvert_exporter": "python",
   "pygments_lexer": "ipython3",
   "version": "3.9.7"
  }
 },
 "nbformat": 4,
 "nbformat_minor": 2
}
